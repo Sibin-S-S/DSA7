{
  "nbformat": 4,
  "nbformat_minor": 0,
  "metadata": {
    "colab": {
      "provenance": [],
      "authorship_tag": "ABX9TyO93jSpXakZSN+lYOeXklG7",
      "include_colab_link": true
    },
    "kernelspec": {
      "name": "python3",
      "display_name": "Python 3"
    },
    "language_info": {
      "name": "python"
    }
  },
  "cells": [
    {
      "cell_type": "markdown",
      "metadata": {
        "id": "view-in-github",
        "colab_type": "text"
      },
      "source": [
        "<a href=\"https://colab.research.google.com/github/Sibin-S-S/DSA7/blob/main/Day03_iteration.ipynb\" target=\"_parent\"><img src=\"https://colab.research.google.com/assets/colab-badge.svg\" alt=\"Open In Colab\"/></a>"
      ]
    },
    {
      "cell_type": "markdown",
      "source": [
        "## for loop"
      ],
      "metadata": {
        "id": "boddGobIk1uI"
      }
    },
    {
      "cell_type": "code",
      "execution_count": null,
      "metadata": {
        "colab": {
          "base_uri": "https://localhost:8080/"
        },
        "id": "_Be4Kl78hEQb",
        "outputId": "dd22c896-f839-4466-fe9b-8ee2a6d5acc9"
      },
      "outputs": [
        {
          "output_type": "stream",
          "name": "stdout",
          "text": [
            "0\n",
            "1\n",
            "2\n",
            "3\n",
            "4\n",
            "5\n",
            "6\n",
            "7\n",
            "8\n",
            "9\n",
            "10\n",
            "11\n",
            "12\n",
            "13\n",
            "14\n"
          ]
        }
      ],
      "source": [
        "for i in range(15):\n",
        "  print(i)"
      ]
    },
    {
      "cell_type": "code",
      "source": [
        "for num in range(100,140,2):\n",
        "  print(num)"
      ],
      "metadata": {
        "colab": {
          "base_uri": "https://localhost:8080/"
        },
        "id": "soe0uR2_lKGh",
        "outputId": "5b3dfe43-9de0-4994-d33e-d68b3a1df248"
      },
      "execution_count": null,
      "outputs": [
        {
          "output_type": "stream",
          "name": "stdout",
          "text": [
            "100\n",
            "102\n",
            "104\n",
            "106\n",
            "108\n",
            "110\n",
            "112\n",
            "114\n",
            "116\n",
            "118\n",
            "120\n",
            "122\n",
            "124\n",
            "126\n",
            "128\n",
            "130\n",
            "132\n",
            "134\n",
            "136\n",
            "138\n"
          ]
        }
      ]
    },
    {
      "cell_type": "code",
      "source": [
        "# In the case of string\n",
        "\n",
        "word = \"word\"\n",
        "\n",
        "for i in word:\n",
        "  print(i)"
      ],
      "metadata": {
        "colab": {
          "base_uri": "https://localhost:8080/"
        },
        "id": "PzMdmopWlcjd",
        "outputId": "1016423e-3218-4b1f-c30e-6b80288e5167"
      },
      "execution_count": null,
      "outputs": [
        {
          "output_type": "stream",
          "name": "stdout",
          "text": [
            "w\n",
            "o\n",
            "r\n",
            "d\n"
          ]
        }
      ]
    },
    {
      "cell_type": "code",
      "source": [
        "my_list=['sibin',23,'trivandrum']\n",
        "for i in my_list :\n",
        "    print(i)"
      ],
      "metadata": {
        "colab": {
          "base_uri": "https://localhost:8080/"
        },
        "id": "VQTHEogBmc0O",
        "outputId": "83fa78a4-32e0-47d8-b2cc-900ae1663758"
      },
      "execution_count": null,
      "outputs": [
        {
          "output_type": "stream",
          "name": "stdout",
          "text": [
            "sibin\n",
            "23\n",
            "trivandrum\n"
          ]
        }
      ]
    },
    {
      "cell_type": "code",
      "source": [
        "for i in range(len(my_list)):\n",
        "  print(my_list[i])"
      ],
      "metadata": {
        "colab": {
          "base_uri": "https://localhost:8080/"
        },
        "id": "F69uI-MZnhCm",
        "outputId": "4bff8453-85c7-4611-8f5a-7eae8bbc3234"
      },
      "execution_count": null,
      "outputs": [
        {
          "output_type": "stream",
          "name": "stdout",
          "text": [
            "sibin\n",
            "23\n",
            "trivandrum\n"
          ]
        }
      ]
    },
    {
      "cell_type": "code",
      "source": [
        "for i in range(len(my_list)):\n",
        "  if my_list[i]=='sibin':\n",
        "    print('sibin is found')\n",
        "    print(my_list[i])\n",
        "  else:\n",
        "      print(my_list[i])"
      ],
      "metadata": {
        "colab": {
          "base_uri": "https://localhost:8080/"
        },
        "id": "1sHCh9n5nrjs",
        "outputId": "cf4c305e-e629-433c-c2a4-1c72cd540791"
      },
      "execution_count": null,
      "outputs": [
        {
          "output_type": "stream",
          "name": "stdout",
          "text": [
            "sibin is found\n",
            "sibin\n",
            "23\n",
            "trivandrum\n"
          ]
        }
      ]
    },
    {
      "cell_type": "code",
      "source": [
        "#Dictionary looping\n",
        "my_dict = {\n",
        "    'Name':'sibin',\n",
        "    'age':23,\n",
        "    'course':'DSA',\n",
        "    'place':'Varkala',\n",
        "    'Game':'Cricket',\n",
        "    'Food':'Biriyani'\n",
        "}\n",
        "my_dict.keys()\n",
        "my_dict.values()\n",
        "my_dict.items()"
      ],
      "metadata": {
        "colab": {
          "base_uri": "https://localhost:8080/"
        },
        "id": "YmRaz9dupslc",
        "outputId": "0f0685a8-8668-487e-8a16-06c6d121d87e"
      },
      "execution_count": null,
      "outputs": [
        {
          "output_type": "execute_result",
          "data": {
            "text/plain": [
              "dict_items([('Name', 'sibin'), ('age', 23), ('course', 'DSA'), ('place', 'Varkala'), ('Game', 'Cricket'), ('Food', 'Biriyani')])"
            ]
          },
          "metadata": {},
          "execution_count": 18
        }
      ]
    },
    {
      "cell_type": "code",
      "source": [
        "for k,v in my_dict.items():\n",
        "  print(f'My {k} is {v}')"
      ],
      "metadata": {
        "colab": {
          "base_uri": "https://localhost:8080/"
        },
        "id": "kI8-8-Hqrmqa",
        "outputId": "b1b0edab-5ba4-449b-c8b3-8e391800c65a"
      },
      "execution_count": null,
      "outputs": [
        {
          "output_type": "stream",
          "name": "stdout",
          "text": [
            "My Name is sibin\n",
            "My age is 23\n",
            "My course is DSA\n",
            "My place is Varkala\n",
            "My Game is Cricket\n",
            "My Food is Biriyani\n"
          ]
        }
      ]
    },
    {
      "cell_type": "code",
      "source": [
        "my_groc = {\n",
        "    'Rice':55,\n",
        "    'Tea' :45,\n",
        "    'Sugar':37,\n",
        "    'Wheat':27,\n",
        "    'coffee':250,\n",
        "    'Banana':50,\n",
        "    'Carrot':40\n",
        "}\n",
        "budget = 250\n",
        "tot_price = 0\n",
        "my_list=[]\n",
        "for a,b in my_groc.items():\n",
        "  if tot_price+b < budget and tot_price < budget :\n",
        "    my_list.append(a)\n",
        "    tot_price = tot_price+b\n",
        "print(my_list)\n",
        "print(tot_price)"
      ],
      "metadata": {
        "colab": {
          "base_uri": "https://localhost:8080/"
        },
        "id": "kSECet-fr7z5",
        "outputId": "c93c92cb-d28d-4b4e-d40f-b599dfc48377"
      },
      "execution_count": null,
      "outputs": [
        {
          "output_type": "stream",
          "name": "stdout",
          "text": [
            "['Rice', 'Tea', 'Sugar', 'Wheat', 'Banana']\n",
            "214\n"
          ]
        }
      ]
    },
    {
      "cell_type": "code",
      "source": [
        "# in range 1 to 100 find numbers divisible by both 3 and 5\n",
        "for i in range (1,101):\n",
        " if i%5==0 and i%3 ==0:\n",
        "  print(i)"
      ],
      "metadata": {
        "colab": {
          "base_uri": "https://localhost:8080/"
        },
        "id": "JPgeZCXj5R6P",
        "outputId": "fb755505-a055-48ed-be98-5561bdff35da"
      },
      "execution_count": null,
      "outputs": [
        {
          "output_type": "stream",
          "name": "stdout",
          "text": [
            "15\n",
            "30\n",
            "45\n",
            "60\n",
            "75\n",
            "90\n"
          ]
        }
      ]
    },
    {
      "cell_type": "markdown",
      "source": [
        "# while loop"
      ],
      "metadata": {
        "id": "rLiooIcJADsE"
      }
    },
    {
      "cell_type": "code",
      "source": [
        "a = 1\n",
        "while a <10:\n",
        "  print(a)\n",
        "  a= a+2\n",
        "else:\n",
        "    print('Limit Crossed')"
      ],
      "metadata": {
        "colab": {
          "base_uri": "https://localhost:8080/"
        },
        "id": "1MZ8xzG8AKUT",
        "outputId": "55b97c59-537a-465b-b47e-494deff91283"
      },
      "execution_count": null,
      "outputs": [
        {
          "output_type": "stream",
          "name": "stdout",
          "text": [
            "1\n",
            "3\n",
            "5\n",
            "7\n",
            "9\n",
            "Limit Crossed\n"
          ]
        }
      ]
    },
    {
      "cell_type": "code",
      "source": [
        "balance = 500\n",
        "while balance >300:\n",
        "  print('Sufficient Balance****')\n",
        "  balance = balance - 50\n",
        "else :\n",
        "    print('Insufficient Balance :(')"
      ],
      "metadata": {
        "colab": {
          "base_uri": "https://localhost:8080/"
        },
        "id": "JJkUWg6KBiwo",
        "outputId": "e07b470d-ea14-4e2f-b7ae-d22f36444971"
      },
      "execution_count": null,
      "outputs": [
        {
          "output_type": "stream",
          "name": "stdout",
          "text": [
            "Sufficient Balance****\n",
            "Sufficient Balance****\n",
            "Sufficient Balance****\n",
            "Sufficient Balance****\n",
            "Insufficient Balance :(\n"
          ]
        }
      ]
    },
    {
      "cell_type": "code",
      "source": [
        "hid_numb = 18\n",
        "num = int(input('Guess the number :'))\n",
        "while num != hid_numb:\n",
        "   print('Try again :')\n",
        "   num = int(input('Guess again'))\n",
        "\n",
        "else :\n",
        "    print('Congratssss')\n",
        "\n"
      ],
      "metadata": {
        "colab": {
          "base_uri": "https://localhost:8080/"
        },
        "id": "1Y6kTx7TEPvH",
        "outputId": "472ca304-18ed-44f0-b77b-a00e09e3573a"
      },
      "execution_count": null,
      "outputs": [
        {
          "output_type": "stream",
          "name": "stdout",
          "text": [
            "Guess the number :12\n",
            "Try again :\n",
            "Guess again18\n",
            "Congratssss\n"
          ]
        }
      ]
    },
    {
      "cell_type": "code",
      "source": [
        "import random\n",
        "hid_numb = random.randint(1,15)\n",
        "num = int(input('Guess the number :'))\n",
        "while num != hid_numb:\n",
        "   print('Try Again : :')\n",
        "   num = int(input('Guess again :'))\n",
        "\n",
        "else :\n",
        "    print('adi pookuti Ningal jaichu')"
      ],
      "metadata": {
        "colab": {
          "base_uri": "https://localhost:8080/"
        },
        "id": "St-zZuIiJuoC",
        "outputId": "b4f09ebb-070a-4daa-bb91-a5319d661516"
      },
      "execution_count": null,
      "outputs": [
        {
          "output_type": "stream",
          "name": "stdout",
          "text": [
            "Guess the number :6\n",
            "Try Again : :\n",
            "Guess again :10\n",
            "adi pookuti Ningal jaichu\n"
          ]
        }
      ]
    },
    {
      "cell_type": "code",
      "source": [
        "password = 1345\n",
        "num = int(input('Enter the Password :'))\n",
        "i=0\n",
        "while i<2:\n",
        "  if  num != password :\n",
        "      i= i+1\n",
        "      num=int(input('Password incorrect,Try again'))\n",
        "\n",
        "  else :\n",
        "    print('Correct password')\n",
        "    break\n",
        "else :\n",
        "    print('You ran out of attempts')"
      ],
      "metadata": {
        "colab": {
          "base_uri": "https://localhost:8080/"
        },
        "id": "2S8FMBunLOfZ",
        "outputId": "2ac0ced7-47e2-4e86-95d8-6ddcf7a8d59c"
      },
      "execution_count": null,
      "outputs": [
        {
          "output_type": "stream",
          "name": "stdout",
          "text": [
            "Enter the Password :5456\n",
            "Password incorrect,Try again2345\n",
            "Password incorrect,Try again8657\n",
            "You ran out of attempts\n"
          ]
        }
      ]
    },
    {
      "cell_type": "code",
      "source": [
        "## create dict with movies and rating print all movies and its ratings.update a movie rating from 8 to 5 or 5 to 9.add 2 new movies and their rating to dictionary.find highest\n",
        "#rated and removeif rating less than 5\n",
        "\n",
        "movies = {'Interstellar': 10,\n",
        "          'Indian 2': 2,\n",
        "          'Dark knight':9,\n",
        "          'Pushpa ':3,\n",
        "          'Nayagan': 8}\n",
        "movies['Pushpa'] =9\n",
        "print(movies)\n",
        "\n",
        "movies['Hangover']=8\n",
        "movies['Bigil'] = 4\n",
        "print(movies)\n",
        "\n",
        "highest_rating = 0\n",
        "highest_movie =''\n",
        "for k,v in movies.items():\n",
        "  if v > highest_rating:\n",
        "    highest_rating = v\n",
        "    highest_movie = k\n",
        "print(f'{highest_movie} is the highest rated movie with {highest_rating}')\n",
        "\n",
        "\n",
        "filtered_list={}\n",
        "for k,v in movies.items():\n",
        "  if v>5:\n",
        "    filtered_list[k]=v\n",
        "    print(filtered_list)\n",
        "\n"
      ],
      "metadata": {
        "colab": {
          "base_uri": "https://localhost:8080/"
        },
        "id": "_G5x7JdXVXff",
        "outputId": "0558c3e8-1082-4f65-e156-f217341f70d5"
      },
      "execution_count": null,
      "outputs": [
        {
          "output_type": "stream",
          "name": "stdout",
          "text": [
            "{'Interstellar': 10, 'Indian 2': 2, 'Dark knight': 9, 'Pushpa ': 3, 'Nayagan': 8, 'Pushpa': 9}\n",
            "{'Interstellar': 10, 'Indian 2': 2, 'Dark knight': 9, 'Pushpa ': 3, 'Nayagan': 8, 'Pushpa': 9, 'Hangover': 8, 'Bigil': 4}\n",
            "Interstellar is the highest rated movie with 10\n",
            "{'Interstellar': 10}\n",
            "{'Interstellar': 10, 'Dark knight': 9}\n",
            "{'Interstellar': 10, 'Dark knight': 9, 'Nayagan': 8}\n",
            "{'Interstellar': 10, 'Dark knight': 9, 'Nayagan': 8, 'Pushpa': 9}\n",
            "{'Interstellar': 10, 'Dark knight': 9, 'Nayagan': 8, 'Pushpa': 9, 'Hangover': 8}\n"
          ]
        }
      ]
    },
    {
      "cell_type": "markdown",
      "source": [
        "## Functions\n"
      ],
      "metadata": {
        "id": "8hzmPW6RtrLk"
      }
    },
    {
      "cell_type": "code",
      "source": [
        "# def function_name():\n",
        "#   function_body"
      ],
      "metadata": {
        "id": "yZDSe-eUt59I"
      },
      "execution_count": null,
      "outputs": []
    },
    {
      "cell_type": "code",
      "source": [
        "def greet():\n",
        "  print('Welcome to Kerala')\n",
        "\n",
        "greet()\n",
        "greet()"
      ],
      "metadata": {
        "colab": {
          "base_uri": "https://localhost:8080/"
        },
        "id": "hAIh6q-zuHz5",
        "outputId": "9dcab0c8-4a85-416b-fc95-cfedfe47ba85"
      },
      "execution_count": null,
      "outputs": [
        {
          "output_type": "stream",
          "name": "stdout",
          "text": [
            "Welcome to Kerala\n",
            "Welcome to Kerala\n"
          ]
        }
      ]
    },
    {
      "cell_type": "code",
      "source": [
        "def greet(name):\n",
        "  print(f'Hello {name}, Welcome')\n",
        "\n",
        "greet('sibin')\n",
        "greet('Hari')"
      ],
      "metadata": {
        "colab": {
          "base_uri": "https://localhost:8080/"
        },
        "id": "nvg7hZ6xwJOJ",
        "outputId": "75c693a6-8d29-4881-8eba-17003c9ec1df"
      },
      "execution_count": null,
      "outputs": [
        {
          "output_type": "stream",
          "name": "stdout",
          "text": [
            "Hello sibin, Welcome\n",
            "Hello Hari, Welcome\n"
          ]
        }
      ]
    },
    {
      "cell_type": "code",
      "source": [
        "def greet(name,time):\n",
        "  print(f'Hello {name}, Welcome to the Program')\n",
        "  print(f'Your session will start at {time}')\n",
        "\n",
        "greet('sibin', '3 pm')\n",
        "greet('Hari','1 am')"
      ],
      "metadata": {
        "colab": {
          "base_uri": "https://localhost:8080/"
        },
        "id": "VBd47KPnwu0O",
        "outputId": "b116e847-27fb-4fbc-9dae-17aede8005cc"
      },
      "execution_count": null,
      "outputs": [
        {
          "output_type": "stream",
          "name": "stdout",
          "text": [
            "Hello sibin, Welcome to the Program\n",
            "Your session will start at 3 pm\n",
            "Hello Hari, Welcome to the Program\n",
            "Your session will start at 1 am\n"
          ]
        }
      ]
    },
    {
      "cell_type": "code",
      "source": [
        "def greet(name,time ='11 am'):\n",
        "  print(f'Hello {name}, Welcome to the Program')\n",
        "  print(f'Your session will start at {time}')\n",
        "\n",
        "greet('sibin', '3 pm')\n",
        "greet('Hari','1 am')\n",
        "greet('Shafi', )"
      ],
      "metadata": {
        "colab": {
          "base_uri": "https://localhost:8080/"
        },
        "id": "C1TYpCD3x6Nq",
        "outputId": "7dd597ed-e9d1-4a74-8a18-3bf653429862"
      },
      "execution_count": null,
      "outputs": [
        {
          "output_type": "stream",
          "name": "stdout",
          "text": [
            "Hello sibin, Welcome to the Program\n",
            "Your session will start at 3 pm\n",
            "Hello Hari, Welcome to the Program\n",
            "Your session will start at 1 am\n",
            "Hello Shafi, Welcome to the Program\n",
            "Your session will start at 11 am\n"
          ]
        }
      ]
    },
    {
      "cell_type": "code",
      "source": [
        "def pro(a,b):\n",
        "\n",
        "  prod = a * b\n",
        "  print(f'The product is {prod}')\n",
        "\n",
        "num1=int(input('Enter a number'))\n",
        "num2=int(input('Enter the second number'))\n",
        "\n",
        "pro(num1,num2)"
      ],
      "metadata": {
        "colab": {
          "base_uri": "https://localhost:8080/"
        },
        "id": "OOMDFN3qyI4A",
        "outputId": "4c47594f-a19d-4ede-9736-2ba768a5f2c9"
      },
      "execution_count": null,
      "outputs": [
        {
          "output_type": "stream",
          "name": "stdout",
          "text": [
            "Enter a number5\n",
            "Enter the second number7\n",
            "The product is 35\n"
          ]
        }
      ]
    },
    {
      "cell_type": "code",
      "source": [
        "def bill(amount):\n",
        " tot_amount= (0.1 *amount ) + amount\n",
        " print(f'The Total amount to be paid is {tot_amount}')\n",
        "a =int(input('Enter the bill amount :'))\n",
        "bill(a)"
      ],
      "metadata": {
        "colab": {
          "base_uri": "https://localhost:8080/"
        },
        "id": "5d4R6U0j1uwn",
        "outputId": "f2d18e11-8d17-41b2-8cbf-9737fb4054e6"
      },
      "execution_count": null,
      "outputs": [
        {
          "output_type": "stream",
          "name": "stdout",
          "text": [
            "Enter the bill amount :500\n",
            "The Total amount to be paid is 550.0\n"
          ]
        }
      ]
    },
    {
      "cell_type": "code",
      "source": [
        "def bill(amount):\n",
        "  if amount > 500 and amount < 1000:\n",
        "      tot_amount= (0.15 *amount ) + amount\n",
        "  elif amount >1000:\n",
        "      tot_amount= (0.25 *amount ) + amount\n",
        "  else :\n",
        "      tot_amount= (0.1 *amount ) + amount\n",
        "  print(f'The Total amount to be paid is {tot_amount}')\n",
        "\n",
        "a =int(input('Enter the bill amount :'))\n",
        "bill(a)"
      ],
      "metadata": {
        "colab": {
          "base_uri": "https://localhost:8080/"
        },
        "id": "1xNrFZWE3J60",
        "outputId": "94f61044-6fff-4774-d112-c430e1f5ca35"
      },
      "execution_count": null,
      "outputs": [
        {
          "output_type": "stream",
          "name": "stdout",
          "text": [
            "Enter the bill amount :10\n",
            "The Total amount to be paid is 11.0\n"
          ]
        }
      ]
    },
    {
      "cell_type": "code",
      "source": [
        "num_list= [13,24,54,89,98,76,77,53,58]\n",
        "def avg_even(numberlist):\n",
        "  even_list=[]\n",
        "  odd_list=[]\n",
        "  for num in numberlist:\n",
        "    if num % 2 ==0:\n",
        "      even_list.append(num)\n",
        "\n",
        "\n",
        "    else:\n",
        "      odd_list.append(num)\n",
        "  avgEven = sum(even_list)/len(even_list)\n",
        "  avgOdd = sum(odd_list)/len(odd_list)\n",
        "  print(odd_list)\n",
        "  print(avgOdd)\n",
        "  print(even_list)\n",
        "  print(avgEven)\n",
        "\n",
        "\n",
        "avg_even(num_list)\n"
      ],
      "metadata": {
        "colab": {
          "base_uri": "https://localhost:8080/"
        },
        "id": "QmFR5orY8CaZ",
        "outputId": "7b497dea-cfba-4245-c6d9-e4cb53d9f32d"
      },
      "execution_count": null,
      "outputs": [
        {
          "output_type": "stream",
          "name": "stdout",
          "text": [
            "[13, 89, 77, 53]\n",
            "58.0\n",
            "[24, 54, 98, 76, 58]\n",
            "62.0\n"
          ]
        }
      ]
    },
    {
      "cell_type": "code",
      "source": [
        "def sum_numbers(*args):\n",
        "  print(type(args))\n",
        "  total = 0\n",
        "  for i in args:\n",
        "    total+= i\n",
        "  print(total)\n",
        "\n",
        "sum_numbers(13,45,32,67,54)\n"
      ],
      "metadata": {
        "colab": {
          "base_uri": "https://localhost:8080/"
        },
        "id": "MlHk-UwCAAid",
        "outputId": "b537a593-4dd3-4fd1-8e5c-b20e66dcae20"
      },
      "execution_count": null,
      "outputs": [
        {
          "output_type": "stream",
          "name": "stdout",
          "text": [
            "<class 'tuple'>\n",
            "211\n"
          ]
        }
      ]
    },
    {
      "cell_type": "code",
      "source": [
        "def print_info(**args):\n",
        "  for item,val in args.items():\n",
        "    print(f'{item} is {val}')\n",
        "\n",
        "\n",
        "print_info(name='Sibin',place='Varkala',batch='DSA')\n",
        "print_info(name='Sasi',place='goa',score='8')\n"
      ],
      "metadata": {
        "colab": {
          "base_uri": "https://localhost:8080/"
        },
        "id": "-JiO5i8lBttI",
        "outputId": "bf306884-cd0f-4cc2-a5ad-19935856d001"
      },
      "execution_count": null,
      "outputs": [
        {
          "output_type": "stream",
          "name": "stdout",
          "text": [
            "name is Sibin\n",
            "place is Varkala\n",
            "batch is DSA\n",
            "name is Sasi\n",
            "place is goa\n",
            "score is 8\n"
          ]
        }
      ]
    },
    {
      "cell_type": "code",
      "source": [
        "square = lambda x : x*x\n",
        "square(6)"
      ],
      "metadata": {
        "colab": {
          "base_uri": "https://localhost:8080/"
        },
        "id": "Hv5Cb6NMLoH2",
        "outputId": "33fd80ff-d08f-47fe-c15e-53c6c200c823"
      },
      "execution_count": null,
      "outputs": [
        {
          "output_type": "execute_result",
          "data": {
            "text/plain": [
              "36"
            ]
          },
          "metadata": {},
          "execution_count": 51
        }
      ]
    },
    {
      "cell_type": "code",
      "source": [
        "add = lambda x,y:x+y\n",
        "add(10,12)"
      ],
      "metadata": {
        "colab": {
          "base_uri": "https://localhost:8080/"
        },
        "id": "KZhOgCz5L7iO",
        "outputId": "89f907ce-9a12-46d2-cb09-0776e0c6b005"
      },
      "execution_count": null,
      "outputs": [
        {
          "output_type": "execute_result",
          "data": {
            "text/plain": [
              "22"
            ]
          },
          "metadata": {},
          "execution_count": 52
        }
      ]
    },
    {
      "cell_type": "code",
      "source": [
        "def tot_mark(marks):\n",
        "  return (sum(marks))\n",
        "\n",
        "Finalscore = tot_mark([10,20,30,40,50])\n",
        "if Finalscore >=90:\n",
        "  print('Grade A')\n",
        "elif Finalscore >=80:\n",
        "    print('Grade B')\n",
        "elif Finalscore >=70:\n",
        "    print('Grade C')\n",
        "elif Finalscore >=60:\n",
        "    print('Grade D')"
      ],
      "metadata": {
        "colab": {
          "base_uri": "https://localhost:8080/"
        },
        "id": "NjmK3zsYMpeX",
        "outputId": "6c01ff97-aca3-496f-84db-cb09fe119199"
      },
      "execution_count": null,
      "outputs": [
        {
          "output_type": "stream",
          "name": "stdout",
          "text": [
            "Grade A\n"
          ]
        }
      ]
    },
    {
      "cell_type": "markdown",
      "source": [
        "#OOPS- OBJECT ORIENTED PROGRAMMING\n",
        "\n",
        "\n",
        "1.   CLASS\n",
        "\n",
        "1.   OBJECT/INSTANCE\n",
        "2.   INHERITANCE\n",
        "\n",
        "2.   POLYMORPHISM\n",
        "\n",
        "\n",
        "5.   ENCAPSULATION\n",
        "2.   ABSTRACTION\n",
        "\n",
        "\n",
        "\n"
      ],
      "metadata": {
        "id": "b8UyLf9JPtC3"
      }
    },
    {
      "cell_type": "markdown",
      "source": [
        "# 1.Class"
      ],
      "metadata": {
        "id": "Byo-fx0ZRbZn"
      }
    },
    {
      "cell_type": "code",
      "source": [
        "class animal:\n",
        "  animal_type = 'Dog'\n",
        "  num_legs = 4\n",
        "  mammal = \"Yes\"\n",
        "\n",
        "  def Sound(self):\n",
        "    print('Animal barks')\n",
        "\n",
        "obj1 =animal()\n",
        "obj1.Sound()"
      ],
      "metadata": {
        "colab": {
          "base_uri": "https://localhost:8080/"
        },
        "id": "4z5WiPj5RqQr",
        "outputId": "b71cbe0f-c132-4092-a44f-e2484510b3ee"
      },
      "execution_count": null,
      "outputs": [
        {
          "output_type": "stream",
          "name": "stdout",
          "text": [
            "Animal barks\n"
          ]
        }
      ]
    },
    {
      "cell_type": "code",
      "source": [
        "class person:\n",
        "  place = 'tvm'\n",
        "\n",
        "  def __init__(self,name,age):\n",
        "    self.name=name\n",
        "    self.age = age\n",
        "\n",
        "  def greet(self):\n",
        "    return f'hi myself {self.name} and my age is {self.age} and i am from {self.place}'\n",
        "\n",
        "obj1=person('Laya',25)\n",
        "obj1.greet()"
      ],
      "metadata": {
        "colab": {
          "base_uri": "https://localhost:8080/",
          "height": 36
        },
        "id": "qz4YeF4dVYRe",
        "outputId": "1e1860aa-c186-47a8-9352-e59825a075e7"
      },
      "execution_count": null,
      "outputs": [
        {
          "output_type": "execute_result",
          "data": {
            "text/plain": [
              "'hi myself Laya and my age is 25 and i am from tvm'"
            ],
            "application/vnd.google.colaboratory.intrinsic+json": {
              "type": "string"
            }
          },
          "metadata": {},
          "execution_count": 61
        }
      ]
    },
    {
      "cell_type": "code",
      "source": [
        "class Employee:\n",
        "  def __init__(self,name,age,salary):\n",
        "    self.name = name\n",
        "    self.age = age\n",
        "    self.salary = salary\n",
        "\n",
        "  def display_info(self):\n",
        "    print(f'Employee name is {self.name}')\n",
        "    print(f'Employee age is {self.age}')\n",
        "    print(f'Employee salary is {self.salary}')\n",
        "\n",
        "class Manager(Employee):\n",
        "  def __init__(self,name,age,salary,gender,department,teamsize):\n",
        "    super().__init__(name,age,salary)\n",
        "    self.gender = gender # Added gender attribute\n",
        "    self.department = department\n",
        "    self.teamsize = teamsize\n",
        "\n",
        "  def display_manager_info(self):\n",
        "    self.display_info()\n",
        "    print(f'Employee gender is {self.gender}') # Added gender print\n",
        "    print(f'Employee department is {self.department}')\n",
        "    print(f'Employee teamsize is {self.teamsize}')\n",
        "\n",
        "class Teamlead(Manager):\n",
        " def __init__(self,name,age,salary,gender,department,teamsize,experience):\n",
        "    super().__init__(name,age,salary,gender,department,teamsize)\n",
        "    self.experience = experience\n",
        "\n",
        " def display_teamlead_info(self):\n",
        "     self.display_manager_info()\n",
        "     print(f'Employee experience is {self.experience}')\n",
        "\n",
        "emp1 = Employee('sibin',23,100000) # Removed gender from Employee instantiation\n",
        "emp1.display_info()\n",
        "\n",
        "manager1=Manager('Jane smith',24,80000,'Female','HR',10) # Changed class name to Manager\n",
        "manager1.display_manager_info()\n",
        "\n",
        "Teamlead1=Teamlead('Hari',23,100000,'Male','HR',10,5)\n",
        "Teamlead1.display_teamlead_info()"
      ],
      "metadata": {
        "colab": {
          "base_uri": "https://localhost:8080/"
        },
        "id": "_iu0gP_2ZxpY",
        "outputId": "16b46689-8064-4dad-80c6-80987d8312e2"
      },
      "execution_count": null,
      "outputs": [
        {
          "output_type": "stream",
          "name": "stdout",
          "text": [
            "Employee name is sibin\n",
            "Employee age is 23\n",
            "Employee salary is 100000\n",
            "Employee name is Jane smith\n",
            "Employee age is 24\n",
            "Employee salary is 80000\n",
            "Employee gender is Female\n",
            "Employee department is HR\n",
            "Employee teamsize is 10\n",
            "Employee name is Hari\n",
            "Employee age is 23\n",
            "Employee salary is 100000\n",
            "Employee gender is Male\n",
            "Employee department is HR\n",
            "Employee teamsize is 10\n",
            "Employee experience is 5\n"
          ]
        }
      ]
    }
  ]
}